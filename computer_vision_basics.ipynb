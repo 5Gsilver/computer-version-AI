{
 "cells": [
  {
   "cell_type": "markdown",
   "metadata": {},
   "source": [
    "# 컴퓨터 비전 기초 학습\n",
    "\n",
    "이 노트북은 컴퓨터 비전의 기본 개념들을 인터랙티브하게 학습할 수 있도록 구성되었습니다.\n",
    "\n",
    "## 목차\n",
    "1. [환경 설정](#환경-설정)\n",
    "2. [이미지 기초](#이미지-기초)\n",
    "3. [이미지 필터링](#이미지-필터링)\n",
    "4. [임계값 처리](#임계값-처리)\n",
    "5. [실습 프로젝트](#실습-프로젝트)"
   ]
  },
  {
   "cell_type": "markdown",
   "metadata": {},
   "source": [
    "## 환경 설정\n",
    "\n",
    "필요한 라이브러리들을 import합니다."
   ]
  },
  {
   "cell_type": "code",
   "execution_count": null,
   "metadata": {},
   "outputs": [],
   "source": [
    "import numpy as np\n",
    "import matplotlib.pyplot as plt\n",
    "import cv2\n",
    "\n",
    "# 한글 폰트 설정 (matplotlib)\n",
    "plt.rcParams['font.family'] = 'DejaVu Sans'\n",
    "plt.rcParams['axes.unicode_minus'] = False\n",
    "\n",
    "# 이미지 표시 함수\n",
    "def show_images(images, titles=None, figsize=(15, 5)):\n",
    "    \"\"\"여러 이미지를 나란히 표시\"\"\"\n",
    "    n = len(images)\n",
    "    fig, axes = plt.subplots(1, n, figsize=figsize)\n",
    "    \n",
    "    if n == 1:\n",
    "        axes = [axes]\n",
    "    \n",
    "    for i, img in enumerate(images):\n",
    "        if len(img.shape) == 3:\n",
    "            axes[i].imshow(cv2.cvtColor(img, cv2.COLOR_BGR2RGB))\n",
    "        else:\n",
    "            axes[i].imshow(img, cmap='gray')\n",
    "        \n",
    "        if titles:\n",
    "            axes[i].set_title(titles[i])\n",
    "        axes[i].axis('off')\n",
    "    \n",
    "    plt.tight_layout()\n",
    "    plt.show()\n",
    "\n",
    "print(\"환경 설정 완료!\")\n",
    "print(f\"OpenCV 버전: {cv2.__version__}\")\n",
    "print(f\"NumPy 버전: {np.__version__}\")"
   ]
  },
  {
   "cell_type": "markdown",
   "metadata": {},
   "source": [
    "## 이미지 기초\n",
    "\n",
    "### 샘플 이미지 생성\n",
    "\n",
    "실습을 위한 다양한 샘플 이미지를 생성해보겠습니다."
   ]
  },
  {
   "cell_type": "code",
   "execution_count": null,
   "metadata": {},
   "outputs": [],
   "source": [
    "def create_sample_images():\n",
    "    \"\"\"다양한 샘플 이미지 생성\"\"\"\n",
    "    \n",
    "    # 1. 체스보드 패턴\n",
    "    checkerboard = np.zeros((200, 200), dtype=np.uint8)\n",
    "    square_size = 25\n",
    "    for i in range(0, 200, square_size):\n",
    "        for j in range(0, 200, square_size):\n",
    "            if (i // square_size + j // square_size) % 2 == 0:\n",
    "                checkerboard[i:i+square_size, j:j+square_size] = 255\n",
    "    \n",
    "    # 2. 원형 패턴\n",
    "    circles = np.zeros((200, 200), dtype=np.uint8)\n",
    "    cv2.circle(circles, (50, 100), 30, 255, -1)\n",
    "    cv2.circle(circles, (150, 100), 25, 128, -1)\n",
    "    cv2.circle(circles, (100, 150), 35, 200, -1)\n",
    "    \n",
    "    # 3. 그라디언트\n",
    "    gradient = np.linspace(0, 255, 200, dtype=np.uint8)\n",
    "    gradient = np.tile(gradient, (200, 1))\n",
    "    \n",
    "    return checkerboard, circles, gradient\n",
    "\n",
    "# 샘플 이미지 생성 및 표시\n",
    "checkerboard, circles, gradient = create_sample_images()\n",
    "\n",
    "show_images([checkerboard, circles, gradient], \n",
    "           ['체스보드', '원형 패턴', '그라디언트'])\n",
    "\n",
    "# 이미지 속성 확인\n",
    "print(f\"체스보드 이미지:\")\n",
    "print(f\"  크기: {checkerboard.shape}\")\n",
    "print(f\"  데이터 타입: {checkerboard.dtype}\")\n",
    "print(f\"  평균 밝기: {np.mean(checkerboard):.1f}\")\n",
    "print(f\"  최솟값: {np.min(checkerboard)}, 최댓값: {np.max(checkerboard)}\")"
   ]
  },
  {
   "cell_type": "markdown",
   "metadata": {},
   "source": [
    "### 노이즈 추가\n",
    "\n",
    "실제 이미지에는 다양한 종류의 노이즈가 포함됩니다. 노이즈를 추가해보고 그 영향을 관찰해보겠습니다."
   ]
  },
  {
   "cell_type": "code",
   "execution_count": null,
   "metadata": {},
   "outputs": [],
   "source": [
    "def add_noise(image, noise_type='gaussian', intensity=25):\n",
    "    \"\"\"이미지에 노이즈 추가\"\"\"\n",
    "    \n",
    "    if noise_type == 'gaussian':\n",
    "        noise = np.random.normal(0, intensity, image.shape)\n",
    "        noisy = image.astype(np.float32) + noise\n",
    "        \n",
    "    elif noise_type == 'salt_pepper':\n",
    "        noisy = image.copy().astype(np.float32)\n",
    "        num_salt = int(intensity * image.size / 1000)\n",
    "        \n",
    "        # Salt noise\n",
    "        coords = [np.random.randint(0, i-1, num_salt) for i in image.shape]\n",
    "        noisy[tuple(coords)] = 255\n",
    "        \n",
    "        # Pepper noise\n",
    "        coords = [np.random.randint(0, i-1, num_salt) for i in image.shape]\n",
    "        noisy[tuple(coords)] = 0\n",
    "    \n",
    "    return np.clip(noisy, 0, 255).astype(np.uint8)\n",
    "\n",
    "# 다양한 노이즈 추가\n",
    "original = checkerboard\n",
    "gaussian_noisy = add_noise(original, 'gaussian', 30)\n",
    "salt_pepper_noisy = add_noise(original, 'salt_pepper', 20)\n",
    "\n",
    "show_images([original, gaussian_noisy, salt_pepper_noisy], \n",
    "           ['원본', '가우시안 노이즈', '잡점 노이즈'])\n",
    "\n",
    "# 노이즈의 영향 분석\n",
    "print(\"노이즈 영향 분석:\")\n",
    "print(f\"원본 표준편차: {np.std(original):.2f}\")\n",
    "print(f\"가우시안 노이즈 후: {np.std(gaussian_noisy):.2f}\")\n",
    "print(f\"잡점 노이즈 후: {np.std(salt_pepper_noisy):.2f}\")"
   ]
  },
  {
   "cell_type": "markdown",
   "metadata": {},
   "source": [
    "## 이미지 필터링\n",
    "\n",
    "### 블러 필터\n",
    "\n",
    "가우시안 블러는 노이즈 제거에 효과적입니다."
   ]
  },
  {
   "cell_type": "code",
   "execution_count": null,
   "metadata": {},
   "outputs": [],
   "source": [
    "# 가우시안 블러 적용\n",
    "blur_3x3 = cv2.GaussianBlur(gaussian_noisy, (3, 3), 0)\n",
    "blur_7x7 = cv2.GaussianBlur(gaussian_noisy, (7, 7), 0)\n",
    "blur_15x15 = cv2.GaussianBlur(gaussian_noisy, (15, 15), 0)\n",
    "\n",
    "show_images([gaussian_noisy, blur_3x3, blur_7x7, blur_15x15], \n",
    "           ['노이즈 이미지', '3x3 블러', '7x7 블러', '15x15 블러'], \n",
    "           figsize=(20, 5))\n",
    "\n",
    "# 노이즈 감소 효과 측정\n",
    "def calculate_psnr(original, processed):\n",
    "    mse = np.mean((original.astype(np.float32) - processed.astype(np.float32)) ** 2)\n",
    "    if mse == 0:\n",
    "        return float('inf')\n",
    "    return 20 * np.log10(255.0 / np.sqrt(mse))\n",
    "\n",
    "print(\"PSNR (높을수록 좋음):\")\n",
    "print(f\"3x3 블러: {calculate_psnr(original, blur_3x3):.2f} dB\")\n",
    "print(f\"7x7 블러: {calculate_psnr(original, blur_7x7):.2f} dB\")\n",
    "print(f\"15x15 블러: {calculate_psnr(original, blur_15x15):.2f} dB\")"
   ]
  },
  {
   "cell_type": "markdown",
   "metadata": {},
   "source": [
    "### 양방향 필터\n",
    "\n",
    "양방향 필터는 에지를 보존하면서 노이즈를 제거합니다."
   ]
  },
  {
   "cell_type": "code",
   "execution_count": null,
   "metadata": {},
   "outputs": [],
   "source": [
    "# 양방향 필터 vs 가우시안 블러 비교\n",
    "gaussian_blur = cv2.GaussianBlur(gaussian_noisy, (9, 9), 0)\n",
    "bilateral = cv2.bilateralFilter(gaussian_noisy, 9, 75, 75)\n",
    "\n",
    "show_images([gaussian_noisy, gaussian_blur, bilateral], \n",
    "           ['노이즈 이미지', '가우시안 블러', '양방향 필터'])\n",
    "\n",
    "# 에지 보존 효과 측정\n",
    "def edge_strength(image):\n",
    "    laplacian = cv2.Laplacian(image, cv2.CV_64F)\n",
    "    return np.var(laplacian)\n",
    "\n",
    "print(\"에지 강도 (높을수록 선명):\")\n",
    "print(f\"원본: {edge_strength(original):.2f}\")\n",
    "print(f\"가우시안 블러: {edge_strength(gaussian_blur):.2f}\")\n",
    "print(f\"양방향 필터: {edge_strength(bilateral):.2f}\")"
   ]
  },
  {
   "cell_type": "markdown",
   "metadata": {},
   "source": [
    "### 미디안 필터\n",
    "\n",
    "미디안 필터는 잡점 노이즈(salt & pepper noise) 제거에 매우 효과적입니다."
   ]
  },
  {
   "cell_type": "code",
   "execution_count": null,
   "metadata": {},
   "outputs": [],
   "source": [
    "# 미디안 필터 적용\n",
    "median_3 = cv2.medianBlur(salt_pepper_noisy, 3)\n",
    "median_5 = cv2.medianBlur(salt_pepper_noisy, 5)\n",
    "gaussian_on_sp = cv2.GaussianBlur(salt_pepper_noisy, (5, 5), 0)\n",
    "\n",
    "show_images([salt_pepper_noisy, median_3, median_5, gaussian_on_sp], \n",
    "           ['잡점 노이즈', '미디안 3x3', '미디안 5x5', '가우시안 5x5'], \n",
    "           figsize=(20, 5))\n",
    "\n",
    "print(\"잡점 노이즈 제거 효과:\")\n",
    "print(f\"미디안 3x3 PSNR: {calculate_psnr(original, median_3):.2f} dB\")\n",
    "print(f\"미디안 5x5 PSNR: {calculate_psnr(original, median_5):.2f} dB\")\n",
    "print(f\"가우시안 PSNR: {calculate_psnr(original, gaussian_on_sp):.2f} dB\")"
   ]
  },
  {
   "cell_type": "markdown",
   "metadata": {},
   "source": [
    "## 임계값 처리\n",
    "\n",
    "### 기본 임계값 처리"
   ]
  },
  {
   "cell_type": "code",
   "execution_count": null,
   "metadata": {},
   "outputs": [],
   "source": [
    "# 다양한 임계값으로 이진화\n",
    "test_img = circles\n",
    "\n",
    "_, thresh_64 = cv2.threshold(test_img, 64, 255, cv2.THRESH_BINARY)\n",
    "_, thresh_128 = cv2.threshold(test_img, 128, 255, cv2.THRESH_BINARY)\n",
    "_, thresh_192 = cv2.threshold(test_img, 192, 255, cv2.THRESH_BINARY)\n",
    "\n",
    "show_images([test_img, thresh_64, thresh_128, thresh_192], \n",
    "           ['원본', '임계값 64', '임계값 128', '임계값 192'], \n",
    "           figsize=(20, 5))\n",
    "\n",
    "# 각 임계값의 전경 비율\n",
    "for thresh, binary in [(64, thresh_64), (128, thresh_128), (192, thresh_192)]:\n",
    "    ratio = np.sum(binary == 255) / binary.size * 100\n",
    "    print(f\"임계값 {thresh}: 전경 비율 {ratio:.1f}%\")"
   ]
  },
  {
   "cell_type": "markdown",
   "metadata": {},
   "source": [
    "### Otsu 자동 임계값"
   ]
  },
  {
   "cell_type": "code",
   "execution_count": null,
   "metadata": {},
   "outputs": [],
   "source": [
    "# Otsu 방법으로 자동 임계값 결정\n",
    "otsu_thresh, otsu_binary = cv2.threshold(test_img, 0, 255, cv2.THRESH_BINARY + cv2.THRESH_OTSU)\n",
    "\n",
    "# 히스토그램과 함께 표시\n",
    "fig, axes = plt.subplots(1, 3, figsize=(15, 5))\n",
    "\n",
    "# 원본 이미지\n",
    "axes[0].imshow(test_img, cmap='gray')\n",
    "axes[0].set_title('원본 이미지')\n",
    "axes[0].axis('off')\n",
    "\n",
    "# 히스토그램\n",
    "axes[1].hist(test_img.ravel(), bins=256, range=[0, 256], alpha=0.7)\n",
    "axes[1].axvline(otsu_thresh, color='red', linestyle='--', label=f'Otsu 임계값: {otsu_thresh:.0f}')\n",
    "axes[1].set_title('히스토그램')\n",
    "axes[1].set_xlabel('픽셀 값')\n",
    "axes[1].set_ylabel('빈도')\n",
    "axes[1].legend()\n",
    "\n",
    "# 이진화 결과\n",
    "axes[2].imshow(otsu_binary, cmap='gray')\n",
    "axes[2].set_title('Otsu 이진화 결과')\n",
    "axes[2].axis('off')\n",
    "\n",
    "plt.tight_layout()\n",
    "plt.show()\n",
    "\n",
    "print(f\"Otsu가 선택한 최적 임계값: {otsu_thresh:.0f}\")"
   ]
  },
  {
   "cell_type": "markdown",
   "metadata": {},
   "source": [
    "### 적응적 임계값 처리"
   ]
  },
  {
   "cell_type": "code",
   "execution_count": null,
   "metadata": {},
   "outputs": [],
   "source": [
    "# 조명이 불균등한 이미지 생성\n",
    "uneven_img = np.zeros((200, 200), dtype=np.uint8)\n",
    "\n",
    "# 그라디언트 배경\n",
    "for i in range(200):\n",
    "    for j in range(200):\n",
    "        uneven_img[i, j] = int(50 + 150 * i / 200)\n",
    "\n",
    "# 객체 추가\n",
    "cv2.rectangle(uneven_img, (50, 50), (100, 100), 255, -1)\n",
    "cv2.rectangle(uneven_img, (120, 120), (170, 170), 255, -1)\n",
    "\n",
    "# 다양한 임계값 방법 적용\n",
    "_, simple_thresh = cv2.threshold(uneven_img, 128, 255, cv2.THRESH_BINARY)\n",
    "adaptive_mean = cv2.adaptiveThreshold(uneven_img, 255, cv2.ADAPTIVE_THRESH_MEAN_C, \n",
    "                                     cv2.THRESH_BINARY, 11, 2)\n",
    "adaptive_gaussian = cv2.adaptiveThreshold(uneven_img, 255, cv2.ADAPTIVE_THRESH_GAUSSIAN_C, \n",
    "                                        cv2.THRESH_BINARY, 11, 2)\n",
    "\n",
    "show_images([uneven_img, simple_thresh, adaptive_mean, adaptive_gaussian], \n",
    "           ['불균등 조명', '단순 임계값', '적응적(평균)', '적응적(가우시안)'], \n",
    "           figsize=(20, 5))\n",
    "\n",
    "print(\"조명이 불균등한 이미지에서는 적응적 임계값이 더 효과적입니다!\")"
   ]
  },
  {
   "cell_type": "markdown",
   "metadata": {},
   "source": [
    "## 실습 프로젝트\n",
    "\n",
    "### 이미지 개선 파이프라인\n",
    "\n",
    "지금까지 학습한 기법들을 조합하여 이미지를 개선해보겠습니다."
   ]
  },
  {
   "cell_type": "code",
   "execution_count": null,
   "metadata": {},
   "outputs": [],
   "source": [
    "# 복합 노이즈가 있는 이미지 생성\n",
    "degraded_img = checkerboard.copy()\n",
    "\n",
    "# 가우시안 노이즈 추가\n",
    "degraded_img = add_noise(degraded_img, 'gaussian', 20)\n",
    "\n",
    "# 잡점 노이즈 추가\n",
    "degraded_img = add_noise(degraded_img, 'salt_pepper', 10)\n",
    "\n",
    "# 어둡게 만들기\n",
    "degraded_img = (degraded_img * 0.7).astype(np.uint8)\n",
    "\n",
    "# 개선 파이프라인 적용\n",
    "# 1단계: 잡점 노이즈 제거\n",
    "step1 = cv2.medianBlur(degraded_img, 3)\n",
    "\n",
    "# 2단계: 가우시안 노이즈 제거 (에지 보존)\n",
    "step2 = cv2.bilateralFilter(step1, 5, 50, 50)\n",
    "\n",
    "# 3단계: 대비 개선 (히스토그램 균등화)\n",
    "step3 = cv2.equalizeHist(step2)\n",
    "\n",
    "# 4단계: 선명도 향상\n",
    "blurred = cv2.GaussianBlur(step3, (0, 0), 1.0)\n",
    "step4 = cv2.addWeighted(step3, 1.5, blurred, -0.5, 0)\n",
    "\n",
    "# 결과 비교\n",
    "show_images([checkerboard, degraded_img, step1, step2, step3, step4], \n",
    "           ['원본', '열화된 이미지', '1단계', '2단계', '3단계', '최종 결과'], \n",
    "           figsize=(24, 4))\n",
    "\n",
    "# 품질 측정\n",
    "print(\"이미지 품질 개선 결과:\")\n",
    "print(f\"열화된 이미지 PSNR: {calculate_psnr(checkerboard, degraded_img):.2f} dB\")\n",
    "print(f\"최종 결과 PSNR: {calculate_psnr(checkerboard, step4):.2f} dB\")\n",
    "print(f\"PSNR 개선: {calculate_psnr(checkerboard, step4) - calculate_psnr(checkerboard, degraded_img):.2f} dB\")"
   ]
  },
  {
   "cell_type": "markdown",
   "metadata": {},
   "source": [
    "## 결론\n",
    "\n",
    "이 노트북에서 다음과 같은 내용을 학습했습니다:\n",
    "\n",
    "1. **이미지 기초**: NumPy 배열로서의 이미지, 다양한 노이즈 유형\n",
    "2. **필터링 기법**: 가우시안 블러, 양방향 필터, 미디안 필터\n",
    "3. **임계값 처리**: 고정 임계값, Otsu 방법, 적응적 임계값\n",
    "4. **실습 프로젝트**: 여러 기법을 조합한 이미지 개선 파이프라인\n",
    "\n",
    "### 다음 단계\n",
    "\n",
    "- 실제 사진 이미지로 실험해보기\n",
    "- 더 고급 필터링 기법 학습 (Non-local means, BM3D 등)\n",
    "- 객체 검출 및 특징 추출 기법 학습\n",
    "- 딥러닝 기반 이미지 처리 방법 탐구"
   ]
  }
 ],
 "metadata": {
  "kernelspec": {
   "display_name": "Python 3",
   "language": "python",
   "name": "python3"
  },
  "language_info": {
   "codemirror_mode": {
    "name": "ipython",
    "version": 3
   },
   "file_extension": ".py",
   "mimetype": "text/x-python",
   "name": "python",
   "nbconvert_exporter": "python",
   "pygments_lexer": "ipython3",
   "version": "3.8.0"
  }
 },
 "nbformat": 4,
 "nbformat_minor": 4
}